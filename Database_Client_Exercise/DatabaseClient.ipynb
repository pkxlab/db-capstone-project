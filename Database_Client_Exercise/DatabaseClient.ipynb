{
 "cells": [
  {
   "cell_type": "code",
   "execution_count": 3,
   "id": "e50b2ffa-4240-426b-9333-2e885d3c9f49",
   "metadata": {},
   "outputs": [],
   "source": [
    "# Ensure that mysql-connector is installed by running the command:\n",
    "!pip install mysql-connector-python\n"
   ]
  },
  {
   "cell_type": "code",
   "execution_count": 2,
   "id": "0f16ae1b-c115-4198-9604-042c71f2cbc9",
   "metadata": {},
   "outputs": [],
   "source": [
    "# Import the connector under the alias connector\n",
    "import mysql.connector as connector"
   ]
  },
  {
   "cell_type": "code",
   "execution_count": null,
   "id": "7efe9e5d-1677-486d-a049-81c8542fafac",
   "metadata": {},
   "outputs": [],
   "source": [
    "# Verify that a connection can be made with your database by calling the connection method from the connector class: \n",
    "connection = connector.connect(user = \"your_user_name\", password = \"your_password_for_database\")"
   ]
  },
  {
   "cell_type": "code",
   "execution_count": null,
   "id": "f70c92d5-afbb-4184-b0ba-7b1697510904",
   "metadata": {},
   "outputs": [],
   "source": [
    "# To connect with your database, call the connect method of the connector class and pass in your details using the following code: \n",
    "connection = connector.connect(user = \"your_username\", password = \"your_password\", db = \"LittleLemonDB\") "
   ]
  },
  {
   "cell_type": "code",
   "execution_count": null,
   "id": "713112fe-127a-4a82-a756-50bbcd1e1f3c",
   "metadata": {},
   "outputs": [],
   "source": [
    "# Create a cursor\n",
    "cursor = connection.cursor()\n",
    "\n",
    "# Choose the database to use\n",
    "cursor.execute(\"USE LittleLemonDB\")"
   ]
  },
  {
   "cell_type": "code",
   "execution_count": null,
   "id": "e2ef8377-887f-4f5e-9205-6e9f7bac7a9c",
   "metadata": {},
   "outputs": [],
   "source": [
    "# Show the tables in the LittleLemonDB\n",
    "show_tables_query = '''\n",
    "SHOW TABLES;\n",
    "'''\n",
    "\n",
    "# Execute the query\n",
    "cursor.execute(show_tables_query)\n",
    "\n",
    "# Fetch the results\n",
    "results = cursor.fetchall()\n",
    "\n",
    "# Print the column names and the results\n",
    "print(cursor.column_names)\n",
    "for table in results:\n",
    "    print(table)"
   ]
  },
  {
   "cell_type": "code",
   "execution_count": null,
   "id": "2ed2ac04-236c-4018-93e4-5b384342619f",
   "metadata": {},
   "outputs": [],
   "source": [
    "# Extract the full name and contact details for every customer that has placed an order greater than $60 for a promotional campaign\n",
    "join_query = '''\n",
    "\n",
    "SELECT (Customers.CustomerFirstName, Customers.CustomerLastName) AS FullName,\n",
    "Customer.ContactNumber,\n",
    "Orders.TotalCost\n",
    "FROM Customers\n",
    "INNER JOIN\n",
    "Orders\n",
    "ON Customers.CustomerID = Orders.CustomerID\n",
    "WHERE\n",
    "Orders.TotalCost > 60;\n",
    "\n",
    "'''\n",
    "\n",
    "# Execute the join query\n",
    "cursor.execute(join_query)\n",
    "\n",
    "# Fetch the results\n",
    "results = cursor.fetchall()\n",
    "\n",
    "# Print the column names and the results\n",
    "print(cursor.column_names)\n",
    "for result in results:\n",
    "    print(table)\n"
   ]
  },
  {
   "cell_type": "code",
   "execution_count": null,
   "id": "8dc97c2f-dca1-41e2-9d8b-3eee6f001da0",
   "metadata": {},
   "outputs": [],
   "source": [
    "# Close the connection to the database\n",
    "print(\"Closing the connection to the database ...\")\n",
    "connection.close() \n",
    "print(\"Connection closed.\")"
   ]
  }
 ],
 "metadata": {
  "kernelspec": {
   "display_name": "Python 3 (ipykernel)",
   "language": "python",
   "name": "python3"
  },
  "language_info": {
   "codemirror_mode": {
    "name": "ipython",
    "version": 3
   },
   "file_extension": ".py",
   "mimetype": "text/x-python",
   "name": "python",
   "nbconvert_exporter": "python",
   "pygments_lexer": "ipython3",
   "version": "3.12.2"
  }
 },
 "nbformat": 4,
 "nbformat_minor": 5
}
